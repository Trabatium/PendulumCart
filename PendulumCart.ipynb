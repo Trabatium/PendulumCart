{
 "cells": [
  {
   "cell_type": "markdown",
   "metadata": {},
   "source": [
    "# Pendulum on chart"
   ]
  },
  {
   "cell_type": "markdown",
   "metadata": {},
   "source": [
    "## Includes"
   ]
  },
  {
   "cell_type": "code",
   "execution_count": null,
   "metadata": {},
   "outputs": [],
   "source": [
    "%matplotlib inline\n",
    "import numpy as np\n",
    "from numpy.linalg import inv\n",
    "import sympy as sp\n",
    "from scipy.integrate import odeint\n",
    "from scipy.linalg import expm\n",
    "from scipy.integrate import quad\n",
    "\n",
    "from matplotlib import pyplot as plt\n",
    "from matplotlib import animation as ani\n",
    "from IPython.display import HTML"
   ]
  },
  {
   "cell_type": "markdown",
   "metadata": {},
   "source": [
    "## Init symbols and funtions"
   ]
  },
  {
   "cell_type": "code",
   "execution_count": null,
   "metadata": {},
   "outputs": [],
   "source": [
    "# Physics\n",
    "m, M, l, g = sp.symbols('m M l g')\n",
    "\n",
    "t, Ts, Fb, gamma, beta = sp.symbols('t T_s Fb gamma beta' )\n",
    "x = sp.Function('x')(t)\n",
    "theta = sp.Function('theta')(t)\n",
    "F = sp.Function('F')(t)\n",
    "\n",
    "# Generalized coordinates\n",
    "z1 = sp.Function('z1')(t)\n",
    "z2 = sp.Function('z2')(t)\n",
    "z3 = sp.Function('z3')(t)\n",
    "z4 = sp.Function('z4')(t)\n",
    "states = [z1,z2,z3,z4]\n",
    "u  = sp.Function('u')(t)\n",
    "inputs = [u]"
   ]
  },
  {
   "cell_type": "markdown",
   "metadata": {},
   "source": [
    "## Penulum on chart equations"
   ]
  },
  {
   "cell_type": "markdown",
   "metadata": {},
   "source": [
    "Position of cart and mass"
   ]
  },
  {
   "cell_type": "code",
   "execution_count": null,
   "metadata": {},
   "outputs": [],
   "source": [
    "xc = x\n",
    "xm = x+l*sp.sin(theta)\n",
    "ym = -l*sp.cos(theta)"
   ]
  },
  {
   "cell_type": "markdown",
   "metadata": {},
   "source": [
    "Velocity of cart and mass"
   ]
  },
  {
   "cell_type": "code",
   "execution_count": null,
   "metadata": {},
   "outputs": [],
   "source": [
    "dxc = xc.diff(t)\n",
    "dxm = xm.diff(t)\n",
    "dym = ym.diff(t)"
   ]
  },
  {
   "cell_type": "markdown",
   "metadata": {},
   "source": [
    "Acceleration of cart and mass"
   ]
  },
  {
   "cell_type": "code",
   "execution_count": null,
   "metadata": {},
   "outputs": [],
   "source": [
    "ddxc = dxc.diff(t)\n",
    "ddxm = dxm.diff(t)\n",
    "ddym = dym.diff(t)"
   ]
  },
  {
   "cell_type": "markdown",
   "metadata": {},
   "source": [
    "Newtons law $\\quad m \\ddot{x}(t) = \\sum_i F_i$"
   ]
  },
  {
   "cell_type": "code",
   "execution_count": null,
   "metadata": {},
   "outputs": [],
   "source": [
    "eqCx = -m*ddxc + F + Fb*sp.sin(theta)\n",
    "eqMx = -M*ddxm - Fb*sp.sin(theta)\n",
    "eqMy = -M*ddym + Fb*sp.cos(theta) - M*g"
   ]
  },
  {
   "cell_type": "markdown",
   "metadata": {},
   "source": [
    "Eliminate $F_b$ and obtain two equations of motion"
   ]
  },
  {
   "cell_type": "code",
   "execution_count": null,
   "metadata": {},
   "outputs": [],
   "source": [
    "Fb_eqn = (eqMx/sp.sin(theta)+Fb).simplify()\n",
    "EOM1 = eqCx.subs({Fb: Fb_eqn}).simplify()\n",
    "EOM2 = (eqMx*sp.cos(theta)+eqMy*sp.sin(theta)).simplify()"
   ]
  },
  {
   "cell_type": "code",
   "execution_count": null,
   "metadata": {},
   "outputs": [],
   "source": [
    "EOM1"
   ]
  },
  {
   "cell_type": "code",
   "execution_count": null,
   "metadata": {},
   "outputs": [],
   "source": [
    "EOM2"
   ]
  },
  {
   "cell_type": "markdown",
   "metadata": {},
   "source": [
    "## Generalized coordinates"
   ]
  },
  {
   "cell_type": "code",
   "execution_count": null,
   "metadata": {
    "scrolled": true
   },
   "outputs": [],
   "source": [
    "genCoords = {x:             z1, \n",
    "             x.diff(t):     z2, \n",
    "             theta:         z3, \n",
    "             theta.diff(t): z4, \n",
    "             F:              u}\n",
    "sp.pprint(genCoords)"
   ]
  },
  {
   "cell_type": "markdown",
   "metadata": {},
   "source": [
    "### Substitute into equations"
   ]
  },
  {
   "cell_type": "code",
   "execution_count": null,
   "metadata": {},
   "outputs": [],
   "source": [
    "gEOM1 = EOM1.subs(genCoords)\n",
    "gEOM1"
   ]
  },
  {
   "cell_type": "code",
   "execution_count": null,
   "metadata": {},
   "outputs": [],
   "source": [
    "gEOM2 = EOM2.subs(genCoords)\n",
    "gEOM2"
   ]
  },
  {
   "cell_type": "markdown",
   "metadata": {},
   "source": [
    "## Obtain the form $\\dot{z}(t) = f(z)$"
   ]
  },
  {
   "cell_type": "markdown",
   "metadata": {},
   "source": [
    "Solve EOM2 for $\\dot{z}_2$ and $\\dot{z}_4$, "
   ]
  },
  {
   "cell_type": "code",
   "execution_count": null,
   "metadata": {},
   "outputs": [],
   "source": [
    "sol_dz4 = sp.solve(gEOM2,z4.diff(t))[0]\n",
    "sol_dz4"
   ]
  },
  {
   "cell_type": "code",
   "execution_count": null,
   "metadata": {},
   "outputs": [],
   "source": [
    "sol_dz2 = sp.solve(gEOM2,z2.diff(t))[0]\n",
    "sol_dz2"
   ]
  },
  {
   "cell_type": "markdown",
   "metadata": {},
   "source": [
    "Substitute $\\dot{z}_2$ and $\\dot{z}_4$ into EOM1"
   ]
  },
  {
   "cell_type": "code",
   "execution_count": null,
   "metadata": {},
   "outputs": [],
   "source": [
    "EQ_dz2 = gEOM1.subs({z4.diff(t):sol_dz4}).simplify()\n",
    "EQ_dz2 = sp.solve(EQ_dz2,z2.diff(t))[0]\n",
    "EQ_dz2"
   ]
  },
  {
   "cell_type": "code",
   "execution_count": null,
   "metadata": {},
   "outputs": [],
   "source": [
    "EQ_dz4 = gEOM1.subs({z2.diff(t):sol_dz2}).simplify()\n",
    "EQ_dz4 = sp.solve(EQ_dz4,z4.diff(t))[0]\n",
    "EQ_dz4"
   ]
  },
  {
   "cell_type": "markdown",
   "metadata": {},
   "source": [
    "Get desired nonlinear vector valued function $f(z)$ such that $\\dot{z} = f(z)$"
   ]
  },
  {
   "cell_type": "code",
   "execution_count": null,
   "metadata": {},
   "outputs": [],
   "source": [
    "f = []\n",
    "f.append(z2)\n",
    "f.append(EQ_dz2)\n",
    "f.append(z4)\n",
    "f.append(EQ_dz4)\n",
    "f"
   ]
  },
  {
   "cell_type": "code",
   "execution_count": null,
   "metadata": {},
   "outputs": [],
   "source": [
    "class NLDiffEQN:\n",
    "    # List of state variables\n",
    "    states = None\n",
    "    nStates = 0\n",
    "    # List of input variables\n",
    "    inputs = None\n",
    "    nInputs = 0\n",
    "    # Equilibrium point\n",
    "    eqPoint = None\n",
    "    \n",
    "    # Dict of constants in equations\n",
    "    constants = None\n",
    "    \n",
    "    # List of symbolic nonlinear equations\n",
    "    equationsNL = None\n",
    "    nEquations = 0\n",
    "    # List of symbolic nonlinear equations (constants substituted)\n",
    "    equationsNLc = None\n",
    "    \n",
    "    # A and B matrix of linear, time-varying, continuous system\n",
    "    Acltv = None\n",
    "    Bcltv = None\n",
    "    Acltvc = None\n",
    "    Bcltvc = None\n",
    "    \n",
    "    # Constructor\n",
    "    def __init__(self,equations,\n",
    "                 states,inputs,\n",
    "                 eqPoint,samplingTime,\n",
    "                 constants = dict({})):\n",
    "        self.Ts = samplingTime\n",
    "        self.equationsNL = equations\n",
    "        self.equationsNLc = [0]*len(equations)\n",
    "        self.nEquations = len(equations)\n",
    "        if len(constants) != 0:\n",
    "            for i, e in enumerate(equations):\n",
    "                self.equationsNLc[i] = e.subs(constants)\n",
    "        self.states = states\n",
    "        self.nStates = len(states)\n",
    "        self.inputs = inputs\n",
    "        self.nInputs = len(inputs)\n",
    "        self.eqPoint = eqPoint\n",
    "        self.constants = constants\n",
    "        \n",
    "        # Compute continuous time, linear, time-varying system\n",
    "        self.setLTI()\n",
    "    \n",
    "        \n",
    "    def dfdtNL(self,zv,t,uv):\n",
    "        res = [0]*len(zv)\n",
    "        z = dict(zip(self.states,zv))\n",
    "        u = dict(zip(self.inputs,uv))\n",
    "        for i, e in enumerate(self.equationsNLc):\n",
    "            res[i] = e.subs(z).subs(u).evalf()\n",
    "        return res\n",
    "    \n",
    "    def setLTI(self):\n",
    "        nz = self.nStates\n",
    "        nu = self.nInputs\n",
    "        # Init A and B matrix\n",
    "        A = [[0 for x in range(nz)] for y in range(nz)]\n",
    "        B = [[0 for x in range(nu)] for y in range(nz)]\n",
    "    \n",
    "        # Linearize system\n",
    "        for i, eq in enumerate(self.equationsNL):\n",
    "            # Populate A matrix\n",
    "            for j, z in enumerate(self.states):\n",
    "                A[i][j] = eq.diff(z)\n",
    "            # Populate B matrix\n",
    "            for j, u in enumerate(self.inputs):\n",
    "                B[i][j] = eq.diff(u).subs(self.constants)\n",
    "        \n",
    "        # continuous-time timeinvariant system\n",
    "        self.A = sp.Matrix(A)\n",
    "        self.B = sp.Matrix(B)\n",
    "        self.Alti = sp.Matrix(A).subs(self.eqPoint)\n",
    "        self.Blti = sp.Matrix(B).subs(self.eqPoint)\n",
    "        self.Altic = sp.Matrix(A).subs(self.constants).subs(self.eqPoint)\n",
    "        self.Bltic = sp.Matrix(B).subs(self.eqPoint).subs(self.constants)\n",
    "        \n",
    "        self.discretizeEulerFw();\n",
    "        self.discretizeEulerBw();\n",
    "        self.discretizeTustin();\n",
    "        self.discretizeExact();\n",
    "    \n",
    "    def dfdtLTI(self,zv,t,uv):\n",
    "        zd = dict(zip(self.states,zv))\n",
    "        ud = dict(zip(self.inputs,uv))\n",
    "        \n",
    "        z = sp.Matrix(zv);\n",
    "        u = sp.Matrix(uv);\n",
    "        res = self.Altic*z + self.Bltic*u\n",
    "        return list(res.evalf())\n",
    "    \n",
    "    def LTIdEulerFW(self,t,zv,uv):\n",
    "        res = np.zeros((len(t),4))\n",
    "        res[0,:] = zv\n",
    "        for i in range(len(t)-1):\n",
    "            res[i+1,:] = np.dot(self.AdEulerFw,res[i,:])+np.dot(self.BdEulerFw,uv)\n",
    "        return res\n",
    "    \n",
    "    def LTIdEulerBW(self,t,zv,uv):\n",
    "        res = np.zeros((len(t),4))\n",
    "        res[0,:] = zv\n",
    "        for i in range(len(t)-1):\n",
    "            res[i+1,:] = np.dot(self.AdEulerBw,res[i,:])+np.dot(self.BdEulerBw,uv)\n",
    "        return res\n",
    "    \n",
    "    def LTIdTustin(self,t,zv,uv):\n",
    "        res = np.zeros((len(t),4))\n",
    "        res[0,:] = zv\n",
    "        for i in range(len(t)-1):\n",
    "            res[i+1,:] = np.dot(self.AdTustin,res[i,:])+np.dot(self.BdTustin,uv)\n",
    "        return res\n",
    "    \n",
    "    def discretizeEulerFw(self):\n",
    "        self.AdEulerFw = np.identity(4)+np.array(self.Ts*self.Alti.subs(self.constants))\n",
    "        self.BdEulerFw = np.array(self.Ts*self.Blti.subs(self.constants))\n",
    "    \n",
    "    def discretizeEulerBw(self):\n",
    "        self.AdEulerBw = np.linalg.inv(np.identity(4)-np.array(self.Ts*self.Alti.subs(self.constants), dtype='float'))\n",
    "        self.BdEulerBw = np.array(self.Ts*self.Blti.subs(self.constants))\n",
    "        \n",
    "    def discretizeTustin(self):\n",
    "        AdTustin1 = (np.identity(4)+0.5*np.array(self.Ts*self.Alti.subs(self.constants), dtype='float'))\n",
    "        AdTustin2 = (np.identity(4)-0.5*np.array(self.Ts*self.Alti.subs(self.constants), dtype='float'))\n",
    "        self.AdTustin =np.dot(AdTustin1, np.linalg.inv(AdTustin2))\n",
    "        self.BdTustin = np.array(self.Ts*self.Blti.subs(self.constants))\n",
    "     \n",
    "    def discretizeExact(self):\n",
    "        self.AdExact = expm(np.array(self.Altic*self.Ts))\n",
    "        P,J = self.Alti.jordan_form()\n",
    "        expJ = sp.zeros(4,4)\n",
    "        gam = (g*(M + m)/(l*m)).subs(self.constants)\n",
    "        J1 = sp.Matrix([[1,t],[0,1]])\n",
    "        J2 = sp.exp(-sp.sqrt(-gam)*t)\n",
    "        J3 = sp.exp(sp.sqrt(-gam)*t)\n",
    "        intJ1 = sp.integrate(J1,t)\n",
    "        intJ2 = sp.integrate(J2,t)\n",
    "        intJ3 = sp.integrate(J3,t)\n",
    "        expJ[0:2,0:2] = intJ1.subs({t:Ts})-intJ1.subs({t:0})\n",
    "        expJ[2,2] = intJ2.subs({t:Ts})-intJ2.subs({t:0})\n",
    "        expJ[3,3] = intJ3.subs({t:Ts})-intJ3.subs({t:0})\n",
    "        self.BdExact = sp.re((P*expJ*P.inv()).subs(self.constants).subs({Ts: self.Ts}))*self.Bltic\n",
    "        \n",
    "    def LTIdExact(self,t,zv,uv):\n",
    "        res = np.zeros((len(t),4))\n",
    "        res[0,:] = zv\n",
    "        for i in range(len(t)-1):\n",
    "            res[i+1,:] = np.dot(self.AdExact,res[i,:])+np.dot(self.BdExact,uv)\n",
    "        return res"
   ]
  },
  {
   "cell_type": "code",
   "execution_count": null,
   "metadata": {
    "scrolled": true
   },
   "outputs": [],
   "source": [
    "const = dict({M: 1,\n",
    "              m: 1,\n",
    "              g: 9.81,\n",
    "              l: 1})\n",
    "EQ_point = {z1: 0, z2: 0, z3: 0, z4: 0, u: 0}\n",
    "z0 = [0,0,0.25,0]\n",
    "u0 = [0.25]\n",
    "Nt = 200\n",
    "tmax = 5\n",
    "tv = np.linspace(0, tmax, Nt)\n",
    "Tsv = tv[1]-tv[0]\n",
    "del nldiff\n",
    "nldiff = NLDiffEQN(f,[z1, z2, z3, z4],[u],EQ_point,Tsv,const)"
   ]
  },
  {
   "cell_type": "code",
   "execution_count": null,
   "metadata": {},
   "outputs": [],
   "source": [
    "resNL = odeint(nldiff.dfdtNL, z0, tv, args=(u0,))\n",
    "resLTI = odeint(nldiff.dfdtLTI, z0, tv, args=(u0,))\n",
    "resLTId_exact = nldiff.LTIdExact(tv,z0,u0)\n",
    "resLTId_tustin = nldiff.LTIdTustin(tv,z0,u0)\n",
    "resLTId_euler_fw = nldiff.LTIdEulerFW(tv,z0,u0)\n",
    "resLTId_euler_bw = nldiff.LTIdEulerBW(tv,z0,u0)\n",
    "res = [resNL, resLTI, resLTId_exact, resLTId_tustin ,resLTId_euler_bw,resLTId_euler_fw]"
   ]
  },
  {
   "cell_type": "code",
   "execution_count": null,
   "metadata": {},
   "outputs": [],
   "source": [
    "np.linalg.inv(np.identity(3)*3)"
   ]
  },
  {
   "cell_type": "code",
   "execution_count": null,
   "metadata": {},
   "outputs": [],
   "source": [
    "def drawCartPendulum(i, data, col, ax):\n",
    "    # Chart position\n",
    "    xc = data[i,0]\n",
    "    yc = 0\n",
    "    p = ax1.scatter(xc,yc,s=40,c=col)\n",
    "    \n",
    "    # Position of mass\n",
    "    theta = data[i,2]\n",
    "    xm = xc+np.sin(theta)\n",
    "    ym = -np.cos(theta)\n",
    "    ax1.scatter(xm,ym,s=150,c=col)\n",
    "    \n",
    "    # Draw line\n",
    "    ax1.plot([xc,xm],[yc,ym],c=col)\n",
    "\n",
    "def plotCartPosition(t, data, col, ax):\n",
    "    xc = data[:,0]\n",
    "    ax.plot(t, xc,c=col)\n",
    "\n",
    "def plotBarAngle(t, data, col, ax):\n",
    "    xc = data[:,2]\n",
    "    ax.plot(t, xc,c=col)\n",
    "    \n",
    "def animate2(i,data):\n",
    "    colors = ['k','b','r','g','m','y']\n",
    "    ax1.clear()\n",
    "    for k, d in enumerate(data):\n",
    "        drawCartPendulum(i, d, colors[k] , ax1)\n",
    "    ax1.legend((\"$Nonlinear^{(c)}$\",\"$LTI^{(c)}$\",'$LTI^{(d)}_{Exact}$',\"$LTI^{(d)}_{Tustin}$\",\"$LTI^{(d)}_{EulerBW}$\",\"$LTI^{(d)}_{EulerFW}$\"))\n",
    "    plt.xlim(-0.5, 1.5)\n",
    "    plt.ylim(-1*const[l],0.05)"
   ]
  },
  {
   "cell_type": "code",
   "execution_count": null,
   "metadata": {},
   "outputs": [],
   "source": [
    "#plt.plot(t, deqn[:,1])\n",
    "fig1 = plt.figure(1)\n",
    "ax1 = fig1.add_subplot(1, 1, 1)\n",
    "an = ani.FuncAnimation(fig1, animate2, frames=len(res[0]),fargs=(res, ), interval=tmax/Nt*1000, repeat=False)\n",
    "HTML(an.to_html5_video())"
   ]
  },
  {
   "cell_type": "code",
   "execution_count": null,
   "metadata": {},
   "outputs": [],
   "source": [
    "fig2, (ax1,ax2) = plt.subplots(2,1)\n",
    "for i, r in enumerate(res):\n",
    "    colors = ['k','b','r','g','m','y']\n",
    "    plotCartPosition(tv,r,colors[i],ax1)\n",
    "    plotBarAngle(tv,r,colors[i],ax2)"
   ]
  },
  {
   "cell_type": "code",
   "execution_count": null,
   "metadata": {},
   "outputs": [],
   "source": []
  },
  {
   "cell_type": "code",
   "execution_count": null,
   "metadata": {},
   "outputs": [],
   "source": []
  }
 ],
 "metadata": {
  "kernelspec": {
   "display_name": "Python 3",
   "language": "python",
   "name": "python3"
  },
  "language_info": {
   "codemirror_mode": {
    "name": "ipython",
    "version": 3
   },
   "file_extension": ".py",
   "mimetype": "text/x-python",
   "name": "python",
   "nbconvert_exporter": "python",
   "pygments_lexer": "ipython3",
   "version": "3.5.2"
  }
 },
 "nbformat": 4,
 "nbformat_minor": 4
}
